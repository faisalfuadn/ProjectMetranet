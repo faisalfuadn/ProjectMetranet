{
 "cells": [
  {
   "cell_type": "markdown",
   "metadata": {},
   "source": [
    "# Pre-processing Data"
   ]
  },
  {
   "cell_type": "markdown",
   "metadata": {},
   "source": [
    "## 1. Importing Data"
   ]
  },
  {
   "cell_type": "code",
   "execution_count": 1,
   "metadata": {},
   "outputs": [
    {
     "data": {
      "text/html": [
       "<div>\n",
       "<style scoped>\n",
       "    .dataframe tbody tr th:only-of-type {\n",
       "        vertical-align: middle;\n",
       "    }\n",
       "\n",
       "    .dataframe tbody tr th {\n",
       "        vertical-align: top;\n",
       "    }\n",
       "\n",
       "    .dataframe thead th {\n",
       "        text-align: right;\n",
       "    }\n",
       "</style>\n",
       "<table border=\"1\" class=\"dataframe\">\n",
       "  <thead>\n",
       "    <tr style=\"text-align: right;\">\n",
       "      <th></th>\n",
       "      <th>X</th>\n",
       "      <th>number_of_cards</th>\n",
       "      <th>outstanding</th>\n",
       "      <th>credit_limit</th>\n",
       "      <th>bill</th>\n",
       "      <th>total_cash_usage</th>\n",
       "      <th>total_retail_usage</th>\n",
       "      <th>remaining_bill</th>\n",
       "      <th>branch_code</th>\n",
       "      <th>payment_ratio</th>\n",
       "      <th>...</th>\n",
       "      <th>default_flag</th>\n",
       "      <th>years_since_card_issuing</th>\n",
       "      <th>total_usage</th>\n",
       "      <th>remaining_bill_per_number_of_cards</th>\n",
       "      <th>remaining_bill_per_limit</th>\n",
       "      <th>total_usage_per_limit</th>\n",
       "      <th>total_3mo_usage_per_limit</th>\n",
       "      <th>total_6mo_usage_per_limit</th>\n",
       "      <th>utilization_3month</th>\n",
       "      <th>utilization_6month</th>\n",
       "    </tr>\n",
       "  </thead>\n",
       "  <tbody>\n",
       "    <tr>\n",
       "      <th>0</th>\n",
       "      <td>2</td>\n",
       "      <td>2</td>\n",
       "      <td>268691</td>\n",
       "      <td>10000000.0</td>\n",
       "      <td>254564.0</td>\n",
       "      <td>0.0</td>\n",
       "      <td>1012.0</td>\n",
       "      <td>0.0</td>\n",
       "      <td>A</td>\n",
       "      <td>0.00</td>\n",
       "      <td>...</td>\n",
       "      <td>0</td>\n",
       "      <td>0.750000</td>\n",
       "      <td>1012.0</td>\n",
       "      <td>0.0</td>\n",
       "      <td>0.000000</td>\n",
       "      <td>0.000101</td>\n",
       "      <td>0.000000</td>\n",
       "      <td>0.000000</td>\n",
       "      <td>0.004232</td>\n",
       "      <td>0.000300</td>\n",
       "    </tr>\n",
       "    <tr>\n",
       "      <th>1</th>\n",
       "      <td>3</td>\n",
       "      <td>3</td>\n",
       "      <td>6769149</td>\n",
       "      <td>28000000.0</td>\n",
       "      <td>4159779.0</td>\n",
       "      <td>0.0</td>\n",
       "      <td>0.0</td>\n",
       "      <td>0.0</td>\n",
       "      <td>A</td>\n",
       "      <td>100.00</td>\n",
       "      <td>...</td>\n",
       "      <td>0</td>\n",
       "      <td>10.750000</td>\n",
       "      <td>0.0</td>\n",
       "      <td>0.0</td>\n",
       "      <td>0.000000</td>\n",
       "      <td>0.000000</td>\n",
       "      <td>0.040518</td>\n",
       "      <td>0.047703</td>\n",
       "      <td>0.249389</td>\n",
       "      <td>NaN</td>\n",
       "    </tr>\n",
       "    <tr>\n",
       "      <th>2</th>\n",
       "      <td>5</td>\n",
       "      <td>2</td>\n",
       "      <td>9402085</td>\n",
       "      <td>10000000.0</td>\n",
       "      <td>6099283.0</td>\n",
       "      <td>0.0</td>\n",
       "      <td>2666558.0</td>\n",
       "      <td>5951865.0</td>\n",
       "      <td>A</td>\n",
       "      <td>95.99</td>\n",
       "      <td>...</td>\n",
       "      <td>0</td>\n",
       "      <td>1.666667</td>\n",
       "      <td>2666558.0</td>\n",
       "      <td>2975932.5</td>\n",
       "      <td>0.595186</td>\n",
       "      <td>0.266656</td>\n",
       "      <td>0.323027</td>\n",
       "      <td>0.131162</td>\n",
       "      <td>0.707865</td>\n",
       "      <td>0.336571</td>\n",
       "    </tr>\n",
       "    <tr>\n",
       "      <th>3</th>\n",
       "      <td>6</td>\n",
       "      <td>2</td>\n",
       "      <td>6227439</td>\n",
       "      <td>80000000.0</td>\n",
       "      <td>2081248.0</td>\n",
       "      <td>0.0</td>\n",
       "      <td>3690250.0</td>\n",
       "      <td>4613435.0</td>\n",
       "      <td>A</td>\n",
       "      <td>0.00</td>\n",
       "      <td>...</td>\n",
       "      <td>0</td>\n",
       "      <td>10.250000</td>\n",
       "      <td>3690250.0</td>\n",
       "      <td>2306717.5</td>\n",
       "      <td>0.057668</td>\n",
       "      <td>0.046128</td>\n",
       "      <td>0.017184</td>\n",
       "      <td>0.117513</td>\n",
       "      <td>0.038964</td>\n",
       "      <td>0.181863</td>\n",
       "    </tr>\n",
       "    <tr>\n",
       "      <th>4</th>\n",
       "      <td>7</td>\n",
       "      <td>2</td>\n",
       "      <td>3906290</td>\n",
       "      <td>4000000.0</td>\n",
       "      <td>2043682.0</td>\n",
       "      <td>0.0</td>\n",
       "      <td>230400.0</td>\n",
       "      <td>3314046.0</td>\n",
       "      <td>A</td>\n",
       "      <td>18.47</td>\n",
       "      <td>...</td>\n",
       "      <td>0</td>\n",
       "      <td>4.666667</td>\n",
       "      <td>230400.0</td>\n",
       "      <td>1657023.0</td>\n",
       "      <td>0.828511</td>\n",
       "      <td>0.057600</td>\n",
       "      <td>0.018750</td>\n",
       "      <td>0.166667</td>\n",
       "      <td>1.014776</td>\n",
       "      <td>0.977231</td>\n",
       "    </tr>\n",
       "  </tbody>\n",
       "</table>\n",
       "<p>5 rows × 24 columns</p>\n",
       "</div>"
      ],
      "text/plain": [
       "   X  number_of_cards  outstanding  credit_limit       bill  total_cash_usage  \\\n",
       "0  2                2       268691    10000000.0   254564.0               0.0   \n",
       "1  3                3      6769149    28000000.0  4159779.0               0.0   \n",
       "2  5                2      9402085    10000000.0  6099283.0               0.0   \n",
       "3  6                2      6227439    80000000.0  2081248.0               0.0   \n",
       "4  7                2      3906290     4000000.0  2043682.0               0.0   \n",
       "\n",
       "   total_retail_usage  remaining_bill branch_code  payment_ratio  ...  \\\n",
       "0              1012.0             0.0           A           0.00  ...   \n",
       "1                 0.0             0.0           A         100.00  ...   \n",
       "2           2666558.0       5951865.0           A          95.99  ...   \n",
       "3           3690250.0       4613435.0           A           0.00  ...   \n",
       "4            230400.0       3314046.0           A          18.47  ...   \n",
       "\n",
       "   default_flag  years_since_card_issuing  total_usage  \\\n",
       "0             0                  0.750000       1012.0   \n",
       "1             0                 10.750000          0.0   \n",
       "2             0                  1.666667    2666558.0   \n",
       "3             0                 10.250000    3690250.0   \n",
       "4             0                  4.666667     230400.0   \n",
       "\n",
       "   remaining_bill_per_number_of_cards  remaining_bill_per_limit  \\\n",
       "0                                 0.0                  0.000000   \n",
       "1                                 0.0                  0.000000   \n",
       "2                           2975932.5                  0.595186   \n",
       "3                           2306717.5                  0.057668   \n",
       "4                           1657023.0                  0.828511   \n",
       "\n",
       "   total_usage_per_limit  total_3mo_usage_per_limit  \\\n",
       "0               0.000101                   0.000000   \n",
       "1               0.000000                   0.040518   \n",
       "2               0.266656                   0.323027   \n",
       "3               0.046128                   0.017184   \n",
       "4               0.057600                   0.018750   \n",
       "\n",
       "   total_6mo_usage_per_limit  utilization_3month  utilization_6month  \n",
       "0                   0.000000            0.004232            0.000300  \n",
       "1                   0.047703            0.249389                 NaN  \n",
       "2                   0.131162            0.707865            0.336571  \n",
       "3                   0.117513            0.038964            0.181863  \n",
       "4                   0.166667            1.014776            0.977231  \n",
       "\n",
       "[5 rows x 24 columns]"
      ]
     },
     "execution_count": 1,
     "metadata": {},
     "output_type": "execute_result"
    }
   ],
   "source": [
    "import pandas as pd\n",
    "data=pd.read_csv('credit_ds_v3.csv')\n",
    "data.head()"
   ]
  },
  {
   "cell_type": "markdown",
   "metadata": {},
   "source": [
    "## 2. Checking total number of \"null\" value in every columns"
   ]
  },
  {
   "cell_type": "code",
   "execution_count": 6,
   "metadata": {},
   "outputs": [
    {
     "data": {
      "text/plain": [
       "X                                        0\n",
       "number_of_cards                          0\n",
       "outstanding                              0\n",
       "credit_limit                             0\n",
       "bill                                     0\n",
       "total_cash_usage                        45\n",
       "total_retail_usage                       0\n",
       "remaining_bill                           0\n",
       "branch_code                            195\n",
       "payment_ratio                            0\n",
       "overlimit_percentage                    26\n",
       "payment_ratio_3month                     0\n",
       "payment_ratio_6month                     0\n",
       "delinquency_score                       88\n",
       "default_flag                             0\n",
       "years_since_card_issuing                 0\n",
       "total_usage                              0\n",
       "remaining_bill_per_number_of_cards       0\n",
       "remaining_bill_per_limit                 0\n",
       "total_usage_per_limit                    0\n",
       "total_3mo_usage_per_limit                0\n",
       "total_6mo_usage_per_limit                0\n",
       "utilization_3month                       0\n",
       "utilization_6month                    2842\n",
       "dtype: int64"
      ]
     },
     "execution_count": 6,
     "metadata": {},
     "output_type": "execute_result"
    }
   ],
   "source": [
    "data.isnull().sum()"
   ]
  },
  {
   "cell_type": "markdown",
   "metadata": {},
   "source": [
    "## 3. filling null value in every columns"
   ]
  },
  {
   "cell_type": "markdown",
   "metadata": {},
   "source": [
    "### 3.1 Filling null value in total_cash_usage columns"
   ]
  },
  {
   "cell_type": "code",
   "execution_count": 3,
   "metadata": {},
   "outputs": [
    {
     "data": {
      "text/plain": [
       "0.0          14864\n",
       "400000.0        60\n",
       "1000000.0       51\n",
       "300000.0        50\n",
       "200000.0        48\n",
       "             ...  \n",
       "3400000.0        1\n",
       "2080000.0        1\n",
       "1194665.0        1\n",
       "4200000.0        1\n",
       "1150000.0        1\n",
       "Name: total_cash_usage, Length: 94, dtype: int64"
      ]
     },
     "execution_count": 3,
     "metadata": {},
     "output_type": "execute_result"
    }
   ],
   "source": [
    "#checking the value range and distribution, so I will expect the 0.0 value replace the dominant NaN value\n",
    "data['total_cash_usage'].value_counts()"
   ]
  },
  {
   "cell_type": "markdown",
   "metadata": {},
   "source": [
    "#### replacing missing value with linear regression"
   ]
  },
  {
   "cell_type": "code",
   "execution_count": 4,
   "metadata": {},
   "outputs": [],
   "source": [
    "data['total_cash_usage'].interpolate(method='linear', inplace=True, limit_direction=\"both\")"
   ]
  },
  {
   "cell_type": "markdown",
   "metadata": {},
   "source": [
    "### 3.2 Filling null value in branch_code columns"
   ]
  },
  {
   "cell_type": "code",
   "execution_count": 5,
   "metadata": {},
   "outputs": [
    {
     "data": {
      "text/plain": [
       "A    8705\n",
       "F    1697\n",
       "B    1351\n",
       "I     991\n",
       "E     649\n",
       "G     566\n",
       "J     410\n",
       "H     367\n",
       "C     334\n",
       "D     205\n",
       "K     175\n",
       "Name: branch_code, dtype: int64"
      ]
     },
     "execution_count": 5,
     "metadata": {},
     "output_type": "execute_result"
    }
   ],
   "source": [
    "data['branch_code'].value_counts()"
   ]
  },
  {
   "cell_type": "code",
   "execution_count": 6,
   "metadata": {},
   "outputs": [
    {
     "data": {
      "text/plain": [
       "branch_code\n",
       "A    2\n",
       "B    2\n",
       "C    2\n",
       "D    2\n",
       "E    2\n",
       "F    2\n",
       "G    2\n",
       "H    2\n",
       "I    2\n",
       "J    2\n",
       "K    2\n",
       "Name: default_flag, dtype: int64"
      ]
     },
     "execution_count": 6,
     "metadata": {},
     "output_type": "execute_result"
    }
   ],
   "source": [
    "unique = data.groupby('branch_code')['default_flag'].nunique()\n",
    "unique"
   ]
  },
  {
   "cell_type": "markdown",
   "metadata": {},
   "source": [
    "- for any branch, always found fraud. So, I'm using every branch name to fill the missing value based on probability\n",
    "- assuming there is'nt other branch, all branch already listed"
   ]
  },
  {
   "cell_type": "code",
   "execution_count": 7,
   "metadata": {},
   "outputs": [
    {
     "name": "stderr",
     "output_type": "stream",
     "text": [
      "C:\\Users\\faisa\\anaconda3\\lib\\site-packages\\pandas\\core\\indexing.py:670: SettingWithCopyWarning: \n",
      "A value is trying to be set on a copy of a slice from a DataFrame\n",
      "\n",
      "See the caveats in the documentation: https://pandas.pydata.org/pandas-docs/stable/user_guide/indexing.html#returning-a-view-versus-a-copy\n",
      "  iloc._setitem_with_indexer(indexer, value)\n"
     ]
    }
   ],
   "source": [
    "null = data['branch_code'].isnull()\n",
    "data['branch_code'].loc[null] = data['branch_code'].dropna().sample(null.sum(), random_state=1).values"
   ]
  },
  {
   "cell_type": "markdown",
   "metadata": {},
   "source": [
    "#### Label Encoding for column branch_code"
   ]
  },
  {
   "cell_type": "code",
   "execution_count": 8,
   "metadata": {},
   "outputs": [],
   "source": [
    "from sklearn.preprocessing import LabelBinarizer\n",
    "\n",
    "encoder = LabelBinarizer()\n",
    "encoder.fit(data['branch_code'])\n",
    "transformed = encoder.transform(data['branch_code'])\n",
    "df = pd.DataFrame(transformed)\n",
    "data = pd.concat([data, df], axis=1).drop(['branch_code'], axis=1)"
   ]
  },
  {
   "cell_type": "markdown",
   "metadata": {},
   "source": [
    "### 3.3 Filling null value in overlimit_percentage columns"
   ]
  },
  {
   "cell_type": "code",
   "execution_count": 9,
   "metadata": {},
   "outputs": [
    {
     "data": {
      "text/plain": [
       "0.00     11481\n",
       "16.00       29\n",
       "10.90       25\n",
       "12.80       23\n",
       "14.90       23\n",
       "         ...  \n",
       "17.06        1\n",
       "31.80        1\n",
       "7.64         1\n",
       "9.60         1\n",
       "0.51         1\n",
       "Name: overlimit_percentage, Length: 1222, dtype: int64"
      ]
     },
     "execution_count": 9,
     "metadata": {},
     "output_type": "execute_result"
    }
   ],
   "source": [
    "data['overlimit_percentage'].value_counts()"
   ]
  },
  {
   "cell_type": "markdown",
   "metadata": {},
   "source": [
    "#### filling the missing value with linear regression"
   ]
  },
  {
   "cell_type": "code",
   "execution_count": 10,
   "metadata": {},
   "outputs": [],
   "source": [
    "data['overlimit_percentage'].interpolate(method='linear', inplace=True, limit_direction=\"both\")"
   ]
  },
  {
   "cell_type": "markdown",
   "metadata": {},
   "source": [
    "### 3.4 Filling null value in delinquency_score columns"
   ]
  },
  {
   "cell_type": "code",
   "execution_count": 11,
   "metadata": {},
   "outputs": [
    {
     "data": {
      "text/plain": [
       "0.0    15394\n",
       "5.0       42\n",
       "4.0       34\n",
       "3.0       34\n",
       "1.0       29\n",
       "2.0       24\n",
       "Name: delinquency_score, dtype: int64"
      ]
     },
     "execution_count": 11,
     "metadata": {},
     "output_type": "execute_result"
    }
   ],
   "source": [
    "data['delinquency_score'].value_counts()"
   ]
  },
  {
   "cell_type": "markdown",
   "metadata": {},
   "source": [
    "#### check the distribution of deliquency score on default_flag"
   ]
  },
  {
   "cell_type": "code",
   "execution_count": 12,
   "metadata": {},
   "outputs": [
    {
     "data": {
      "text/html": [
       "<div>\n",
       "<style scoped>\n",
       "    .dataframe tbody tr th:only-of-type {\n",
       "        vertical-align: middle;\n",
       "    }\n",
       "\n",
       "    .dataframe tbody tr th {\n",
       "        vertical-align: top;\n",
       "    }\n",
       "\n",
       "    .dataframe thead th {\n",
       "        text-align: right;\n",
       "    }\n",
       "</style>\n",
       "<table border=\"1\" class=\"dataframe\">\n",
       "  <thead>\n",
       "    <tr style=\"text-align: right;\">\n",
       "      <th></th>\n",
       "      <th>delinquency_score</th>\n",
       "      <th>default_flag</th>\n",
       "      <th>count</th>\n",
       "    </tr>\n",
       "  </thead>\n",
       "  <tbody>\n",
       "    <tr>\n",
       "      <th>0</th>\n",
       "      <td>0.0</td>\n",
       "      <td>0</td>\n",
       "      <td>14114</td>\n",
       "    </tr>\n",
       "    <tr>\n",
       "      <th>1</th>\n",
       "      <td>0.0</td>\n",
       "      <td>1</td>\n",
       "      <td>1280</td>\n",
       "    </tr>\n",
       "    <tr>\n",
       "      <th>2</th>\n",
       "      <td>1.0</td>\n",
       "      <td>0</td>\n",
       "      <td>22</td>\n",
       "    </tr>\n",
       "    <tr>\n",
       "      <th>3</th>\n",
       "      <td>1.0</td>\n",
       "      <td>1</td>\n",
       "      <td>7</td>\n",
       "    </tr>\n",
       "    <tr>\n",
       "      <th>4</th>\n",
       "      <td>2.0</td>\n",
       "      <td>0</td>\n",
       "      <td>3</td>\n",
       "    </tr>\n",
       "    <tr>\n",
       "      <th>5</th>\n",
       "      <td>2.0</td>\n",
       "      <td>1</td>\n",
       "      <td>21</td>\n",
       "    </tr>\n",
       "    <tr>\n",
       "      <th>6</th>\n",
       "      <td>3.0</td>\n",
       "      <td>0</td>\n",
       "      <td>2</td>\n",
       "    </tr>\n",
       "    <tr>\n",
       "      <th>7</th>\n",
       "      <td>3.0</td>\n",
       "      <td>1</td>\n",
       "      <td>32</td>\n",
       "    </tr>\n",
       "    <tr>\n",
       "      <th>8</th>\n",
       "      <td>4.0</td>\n",
       "      <td>1</td>\n",
       "      <td>34</td>\n",
       "    </tr>\n",
       "    <tr>\n",
       "      <th>9</th>\n",
       "      <td>5.0</td>\n",
       "      <td>1</td>\n",
       "      <td>42</td>\n",
       "    </tr>\n",
       "  </tbody>\n",
       "</table>\n",
       "</div>"
      ],
      "text/plain": [
       "   delinquency_score  default_flag  count\n",
       "0                0.0             0  14114\n",
       "1                0.0             1   1280\n",
       "2                1.0             0     22\n",
       "3                1.0             1      7\n",
       "4                2.0             0      3\n",
       "5                2.0             1     21\n",
       "6                3.0             0      2\n",
       "7                3.0             1     32\n",
       "8                4.0             1     34\n",
       "9                5.0             1     42"
      ]
     },
     "execution_count": 12,
     "metadata": {},
     "output_type": "execute_result"
    }
   ],
   "source": [
    "check_distribution= data.groupby(['delinquency_score','default_flag']).size().reset_index().rename(columns={0:'count'})\n",
    "check_distribution"
   ]
  },
  {
   "cell_type": "markdown",
   "metadata": {},
   "source": [
    "- assuming deliquency score range is 0-5\n",
    "- from this data only default flag 1 occur from any deliquency score\n",
    "- meanwhile default flag 0 only occur from deliquency score 0 - 3\n",
    "- hence, I'm filling the missing value based on this distribution"
   ]
  },
  {
   "cell_type": "code",
   "execution_count": 13,
   "metadata": {},
   "outputs": [],
   "source": [
    "null = data['delinquency_score'].isnull()\n",
    "# data['delinquency_score'][data['default_flag']==0].loc[null] = data['delinquency_score'][data['default_flag']==0].dropna().sample(null.sum(), random_state=1).values"
   ]
  },
  {
   "cell_type": "code",
   "execution_count": 14,
   "metadata": {},
   "outputs": [
    {
     "name": "stderr",
     "output_type": "stream",
     "text": [
      "C:\\Users\\faisa\\anaconda3\\lib\\site-packages\\pandas\\core\\indexing.py:670: SettingWithCopyWarning: \n",
      "A value is trying to be set on a copy of a slice from a DataFrame\n",
      "\n",
      "See the caveats in the documentation: https://pandas.pydata.org/pandas-docs/stable/user_guide/indexing.html#returning-a-view-versus-a-copy\n",
      "  iloc._setitem_with_indexer(indexer, value)\n"
     ]
    }
   ],
   "source": [
    "counts= check_distribution['count'][check_distribution['default_flag']==0]\n",
    "counts= counts.to_numpy()\n",
    "\n",
    "delScore= check_distribution['delinquency_score'][check_distribution['default_flag']==0]\n",
    "delScore= delScore.to_numpy()\n",
    "\n",
    "import numpy as np\n",
    "pool= np.repeat((delScore), (counts))\n",
    "np.random.shuffle(pool)\n",
    "choosen= np.random.choice(pool, sum(null), replace=False)\n",
    "\n",
    "data['delinquency_score'].loc[(data['delinquency_score'].isnull())]= data['delinquency_score'].loc[(data['delinquency_score'].isnull())].dropna()\n",
    "data['delinquency_score'].loc[(data['delinquency_score'].isnull())]= choosen"
   ]
  },
  {
   "cell_type": "code",
   "execution_count": null,
   "metadata": {},
   "outputs": [],
   "source": []
  },
  {
   "cell_type": "markdown",
   "metadata": {},
   "source": [
    "### 3.4 Filling null value in utilization_6month columns"
   ]
  },
  {
   "cell_type": "code",
   "execution_count": 15,
   "metadata": {},
   "outputs": [
    {
     "data": {
      "text/plain": [
       "0.000000    229\n",
       "1.010000    105\n",
       "1.040000     75\n",
       "1.020000     73\n",
       "1.090000     73\n",
       "           ... \n",
       "0.674108      1\n",
       "0.147862      1\n",
       "0.769356      1\n",
       "0.733093      1\n",
       "0.049121      1\n",
       "Name: utilization_6month, Length: 3643, dtype: int64"
      ]
     },
     "execution_count": 15,
     "metadata": {},
     "output_type": "execute_result"
    }
   ],
   "source": [
    "data['utilization_6month'].value_counts()"
   ]
  },
  {
   "cell_type": "code",
   "execution_count": 16,
   "metadata": {},
   "outputs": [],
   "source": [
    "null = data['utilization_6month'].isnull()\n",
    "data['utilization_6month'].interpolate(method='linear', inplace=True, limit_direction=\"both\")"
   ]
  },
  {
   "cell_type": "code",
   "execution_count": 17,
   "metadata": {},
   "outputs": [],
   "source": [
    "# data.to_csv(\"credit_ds_v3clean.csv\")"
   ]
  },
  {
   "cell_type": "code",
   "execution_count": null,
   "metadata": {},
   "outputs": [],
   "source": []
  }
 ],
 "metadata": {
  "kernelspec": {
   "display_name": "Python 3",
   "language": "python",
   "name": "python3"
  },
  "language_info": {
   "codemirror_mode": {
    "name": "ipython",
    "version": 3
   },
   "file_extension": ".py",
   "mimetype": "text/x-python",
   "name": "python",
   "nbconvert_exporter": "python",
   "pygments_lexer": "ipython3",
   "version": "3.8.5"
  }
 },
 "nbformat": 4,
 "nbformat_minor": 4
}
